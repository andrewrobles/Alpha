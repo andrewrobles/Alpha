{
 "cells": [
  {
   "cell_type": "code",
   "execution_count": 5,
   "id": "64b5cb6a-1034-4713-8a4b-d378b709f8f2",
   "metadata": {},
   "outputs": [],
   "source": [
    "import os\n",
    "import qrcode\n",
    "\n",
    "url = 'https://andrewrobles.com/elephant'\n",
    "img = qrcode.make(url)\n",
    "img.save(\"qr.png\", \"PNG\")"
   ]
  },
  {
   "cell_type": "code",
   "execution_count": null,
   "id": "de00ae11-6c76-4c5c-b698-806ac6e5442b",
   "metadata": {},
   "outputs": [],
   "source": []
  },
  {
   "cell_type": "code",
   "execution_count": null,
   "id": "28fcf7f2-00a3-48a0-a287-a0cbe491e2f9",
   "metadata": {},
   "outputs": [],
   "source": []
  }
 ],
 "metadata": {
  "kernelspec": {
   "display_name": "Python 3 (ipykernel)",
   "language": "python",
   "name": "python3"
  },
  "language_info": {
   "codemirror_mode": {
    "name": "ipython",
    "version": 3
   },
   "file_extension": ".py",
   "mimetype": "text/x-python",
   "name": "python",
   "nbconvert_exporter": "python",
   "pygments_lexer": "ipython3",
   "version": "3.9.7"
  }
 },
 "nbformat": 4,
 "nbformat_minor": 5
}
