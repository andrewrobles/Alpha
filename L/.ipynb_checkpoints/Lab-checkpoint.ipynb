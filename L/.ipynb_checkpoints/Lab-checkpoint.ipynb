{
 "cells": [
  {
   "cell_type": "markdown",
   "id": "b1086b27-37c7-408f-88f3-bbde95fccda8",
   "metadata": {},
   "source": [
    "# QR Code"
   ]
  },
  {
   "cell_type": "code",
   "execution_count": 1,
   "id": "64b5cb6a-1034-4713-8a4b-d378b709f8f2",
   "metadata": {},
   "outputs": [],
   "source": [
    "import os\n",
    "import qrcode\n",
    "\n",
    "url = 'https://drewrobles.com'\n",
    "img = qrcode.make(url)\n",
    "img.save(\"qr.png\", \"PNG\")"
   ]
  }
 ],
 "metadata": {
  "kernelspec": {
   "display_name": "Python 3 (ipykernel)",
   "language": "python",
   "name": "python3"
  },
  "language_info": {
   "codemirror_mode": {
    "name": "ipython",
    "version": 3
   },
   "file_extension": ".py",
   "mimetype": "text/x-python",
   "name": "python",
   "nbconvert_exporter": "python",
   "pygments_lexer": "ipython3",
   "version": "3.11.2"
  }
 },
 "nbformat": 4,
 "nbformat_minor": 5
}
